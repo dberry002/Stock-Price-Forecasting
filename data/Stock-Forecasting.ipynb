{
 "cells": [
  {
   "cell_type": "markdown",
   "id": "c3d05cae-5303-4e19-9c54-887fd9f0f33a",
   "metadata": {},
   "source": [
    "# Stock Price Forecasting Project\n",
    "\n",
    "In this project, I analyze and model the daily stock prices of three major companies: **Amazon (AMZN)**, **Microsoft (MSFT)**, and **IBM**. Using historical stock data from the past five years, I aim to explore trends, engineer features like moving averages and volatility, and build predictive models to forecast future prices.\n",
    "\n",
    "The project uses the following tools:\n",
    "- **Python** for data analysis and modeling\n",
    "- **Pandas & yfinance** for data acquisition and manipulation\n",
    "- **Matplotlib & Seaborn** for visualization\n",
    "- **SQL** for data queries \n",
    "- **Tableau** for dashboarding and interactive insights\n",
    "\n",
    "\n",
    "This end-to-end workflow simulates a real-world data science project and demonstrates my skills in data collection, preprocessing, modeling, and storytelling through visualizations.\n"
   ]
  },
  {
   "cell_type": "markdown",
   "id": "59ec73c1-4a88-49e9-bbfb-db96c55f2281",
   "metadata": {},
   "source": [
    "## Modeling Plan\n",
    "\n",
    "Since this dataset consists entirely of numerical time-series data, I will be using **regression models** to predict stock behavior. Specifically, I will focus on two outcome variables:\n",
    "\n",
    "- **Next-Day Closing Price**: A direct prediction of the stock’s closing price for the following trading day.\n",
    "- **Next-Day Percent Return**: A normalized prediction of the stock’s relative daily price change, calculated as the percent change in closing price from one day to the next.\n",
    "\n",
    "To expand the range of modeling techniques I’ve used, I plan to go beyond the linear and LASSO models from previous projects. For this project, I will experiment with:\n",
    "\n",
    "- **Random Forest Regressor**: A tree-based ensemble model that handles non-linear patterns well.\n",
    "- **Gradient Boosting Regressor (XGBoost)**: A powerful boosting technique that often provides state-of-the-art performance.\n",
    "- **Long Short-Term Memory (LSTM)** Neural Network: A deep learning model designed for sequential data, ideal for capturing time-based dependencies in stock prices.\n",
    "\n",
    "These models will be trained on features engineered from historical stock data, including moving averages, volatility, and lagged prices. Model performance will be evaluated using appropriate regression metrics such as **Mean Absolute Error (MAE)** and **Root Mean Squared Error (RMSE)**.\n"
   ]
  },
  {
   "cell_type": "code",
   "execution_count": 62,
   "id": "025dc53b-b522-4f10-ac1f-6d7147c60e71",
   "metadata": {},
   "outputs": [],
   "source": [
    "import yfinance as yf\n",
    "import os\n",
    "import pandas as pd\n",
    "import numpy as np\n",
    "import matplotlib.pyplot as plt\n",
    "import seaborn as sns\n",
    "pd.set_option('display.max_columns', None)\n",
    "from xgboost import XGBClassifier\n",
    "from xgboost import XGBRegressor\n",
    "from xgboost import plot_importance\n",
    "\n",
    "from sklearn.linear_model import LogisticRegression\n",
    "from sklearn.tree import DecisionTreeClassifier\n",
    "from sklearn.ensemble import RandomForestClassifier\n",
    "\n",
    "from sklearn.model_selection import GridSearchCV, train_test_split\n",
    "from sklearn.metrics import accuracy_score, precision_score, recall_score,\\\n",
    "f1_score, confusion_matrix, ConfusionMatrixDisplay, classification_report\n",
    "from sklearn.metrics import roc_auc_score, roc_curve\n",
    "from sklearn.tree import plot_tree\n",
    "\n",
    "import pickle"
   ]
  },
  {
   "cell_type": "code",
   "execution_count": 63,
   "id": "484e33c1-89e7-4051-b130-ab3ebd5daef5",
   "metadata": {},
   "outputs": [
    {
     "name": "stdout",
     "output_type": "stream",
     "text": [
      "Saved AMZN data with 1257 rows to data/amzn_raw.csv\n",
      "Saved MSFT data with 1257 rows to data/msft_raw.csv\n",
      "Saved IBM data with 1257 rows to data/ibm_raw.csv\n"
     ]
    }
   ],
   "source": [
    "os.makedirs(\"data\", exist_ok=True)\n",
    "\n",
    "# These are the labels used for the three specific stocks I am looking at\n",
    "labels = [\"AMZN\", \"MSFT\", \"IBM\"]\n",
    "\n",
    "# Now downloading and saving each one into the data folder\n",
    "for label in labels:\n",
    "    stock = yf.Ticker(label)\n",
    "    df = stock.history(period=\"5y\")  # last 5 years of daily data\n",
    "    file_path = f\"data/{label.lower()}_raw.csv\"\n",
    "    df.to_csv(file_path)\n",
    "    print(f\"Saved {label} data with {len(df)} rows to {file_path}\")"
   ]
  },
  {
   "cell_type": "code",
   "execution_count": 64,
   "id": "69e92a7a-a063-4ff1-ad13-bc9b70933370",
   "metadata": {},
   "outputs": [
    {
     "data": {
      "text/html": [
       "<div>\n",
       "<style scoped>\n",
       "    .dataframe tbody tr th:only-of-type {\n",
       "        vertical-align: middle;\n",
       "    }\n",
       "\n",
       "    .dataframe tbody tr th {\n",
       "        vertical-align: top;\n",
       "    }\n",
       "\n",
       "    .dataframe thead th {\n",
       "        text-align: right;\n",
       "    }\n",
       "</style>\n",
       "<table border=\"1\" class=\"dataframe\">\n",
       "  <thead>\n",
       "    <tr style=\"text-align: right;\">\n",
       "      <th></th>\n",
       "      <th>Date</th>\n",
       "      <th>Open</th>\n",
       "      <th>High</th>\n",
       "      <th>Low</th>\n",
       "      <th>Close</th>\n",
       "      <th>Volume</th>\n",
       "      <th>Dividends</th>\n",
       "      <th>Stock Splits</th>\n",
       "    </tr>\n",
       "  </thead>\n",
       "  <tbody>\n",
       "    <tr>\n",
       "      <th>0</th>\n",
       "      <td>2020-06-09 00:00:00-04:00</td>\n",
       "      <td>126.472000</td>\n",
       "      <td>131.321503</td>\n",
       "      <td>126.250000</td>\n",
       "      <td>130.042999</td>\n",
       "      <td>103520000</td>\n",
       "      <td>0.0</td>\n",
       "      <td>0.0</td>\n",
       "    </tr>\n",
       "    <tr>\n",
       "      <th>1</th>\n",
       "      <td>2020-06-10 00:00:00-04:00</td>\n",
       "      <td>132.250000</td>\n",
       "      <td>136.117493</td>\n",
       "      <td>131.313004</td>\n",
       "      <td>132.372498</td>\n",
       "      <td>98920000</td>\n",
       "      <td>0.0</td>\n",
       "      <td>0.0</td>\n",
       "    </tr>\n",
       "    <tr>\n",
       "      <th>2</th>\n",
       "      <td>2020-06-11 00:00:00-04:00</td>\n",
       "      <td>130.175003</td>\n",
       "      <td>133.569000</td>\n",
       "      <td>126.811501</td>\n",
       "      <td>127.898003</td>\n",
       "      <td>116002000</td>\n",
       "      <td>0.0</td>\n",
       "      <td>0.0</td>\n",
       "    </tr>\n",
       "    <tr>\n",
       "      <th>3</th>\n",
       "      <td>2020-06-12 00:00:00-04:00</td>\n",
       "      <td>130.060501</td>\n",
       "      <td>131.074005</td>\n",
       "      <td>125.167503</td>\n",
       "      <td>127.250999</td>\n",
       "      <td>108722000</td>\n",
       "      <td>0.0</td>\n",
       "      <td>0.0</td>\n",
       "    </tr>\n",
       "    <tr>\n",
       "      <th>4</th>\n",
       "      <td>2020-06-15 00:00:00-04:00</td>\n",
       "      <td>126.330002</td>\n",
       "      <td>129.199997</td>\n",
       "      <td>125.400002</td>\n",
       "      <td>128.634003</td>\n",
       "      <td>77302000</td>\n",
       "      <td>0.0</td>\n",
       "      <td>0.0</td>\n",
       "    </tr>\n",
       "  </tbody>\n",
       "</table>\n",
       "</div>"
      ],
      "text/plain": [
       "                        Date        Open        High         Low       Close  \\\n",
       "0  2020-06-09 00:00:00-04:00  126.472000  131.321503  126.250000  130.042999   \n",
       "1  2020-06-10 00:00:00-04:00  132.250000  136.117493  131.313004  132.372498   \n",
       "2  2020-06-11 00:00:00-04:00  130.175003  133.569000  126.811501  127.898003   \n",
       "3  2020-06-12 00:00:00-04:00  130.060501  131.074005  125.167503  127.250999   \n",
       "4  2020-06-15 00:00:00-04:00  126.330002  129.199997  125.400002  128.634003   \n",
       "\n",
       "      Volume  Dividends  Stock Splits  \n",
       "0  103520000        0.0           0.0  \n",
       "1   98920000        0.0           0.0  \n",
       "2  116002000        0.0           0.0  \n",
       "3  108722000        0.0           0.0  \n",
       "4   77302000        0.0           0.0  "
      ]
     },
     "execution_count": 64,
     "metadata": {},
     "output_type": "execute_result"
    }
   ],
   "source": [
    "amazon = pd.read_csv(\"data/amzn_raw.csv\", index_col=False)\n",
    "microsoft = pd.read_csv(\"data/msft_raw.csv\", index_col=False)\n",
    "ibm = pd.read_csv(\"data/ibm_raw.csv\", index_col=False)\n",
    "amazon.head()"
   ]
  },
  {
   "cell_type": "markdown",
   "id": "1191ad60-ae48-4a23-a0ec-5a7126c787cf",
   "metadata": {},
   "source": [
    "# Data Cleaning and Exploration\n",
    "\n",
    "First it is very important to understand the data you are working with and understnd the questions you want to answer and reasoning behind it. First looking at the raw data it is split up into 8 different columns being:\n",
    "\n",
    "- **Date**: The specific date the prices are on\n",
    "- **Open**: The price at which the stock opens at on that specific day\n",
    "- **High**: The highest price that specific stock reaches on that day\n",
    "- **Low**: The lowest price that specific stock reaches on that day\n",
    "- **Close**: What the stock price closes at on that day\n",
    "- **Volume**: The total number of shares that were traded on that day (bought and sold). A higher volume often indicates stronger interest or volatility in the stock for that day.  \n",
    "- **Dividends**: the amount of cash distributed to shareholder per share on that day. Most days this is 0 because most dividend-paying companies distribute it quarterly.\n",
    "- **Stock Splits**: this shows any stock splits that occured on that day. A good example can be if a value of 2 is shwon there it would indicate that a 2-for-1 stock split occured. These can be rare but are important as they affect share count and price.\n",
    "\n",
    "For this specific project I will be focusing more on **Open**, **High**, **Low**, **Close**, and **Volume**."
   ]
  },
  {
   "cell_type": "code",
   "execution_count": 65,
   "id": "26236c74-f6ab-4b5f-ae6b-ec35774e96b7",
   "metadata": {},
   "outputs": [],
   "source": [
    "# Here I drop Dividends and Stock Splits from each data set. \n",
    "amazon.drop(columns=[\"Dividends\", \"Stock Splits\"], inplace=True)\n",
    "microsoft.drop(columns=[\"Dividends\", \"Stock Splits\"], inplace=True)\n",
    "ibm.drop(columns=[\"Dividends\", \"Stock Splits\"], inplace=True)\n",
    "\n",
    "# First I want to add a Label column that just shows the name of the company. This is important for when I combine the data sets into one it will have a clear distinction between the three companies.\n",
    "amazon[\"Label\"] = \"AMZN\"\n",
    "microsoft[\"Label\"] = \"MSFT\"\n",
    "ibm[\"Label\"] = \"IBM\"\n",
    "\n",
    "# Here I am combining all data tables into a new data frame so it is easier to access\n",
    "combined_df = pd.concat([amazon, microsoft, ibm], ignore_index=True)\n"
   ]
  },
  {
   "cell_type": "markdown",
   "id": "0d87ebc2-c5ef-4d44-81f3-dc422f30480d",
   "metadata": {},
   "source": [
    "**Descriptors of the now combined Data Set**"
   ]
  },
  {
   "cell_type": "code",
   "execution_count": 66,
   "id": "a0f971e1-ac4a-4a63-b029-f543c0a7843c",
   "metadata": {},
   "outputs": [
    {
     "name": "stdout",
     "output_type": "stream",
     "text": [
      "<class 'pandas.core.frame.DataFrame'>\n",
      "RangeIndex: 3771 entries, 0 to 3770\n",
      "Data columns (total 7 columns):\n",
      " #   Column  Non-Null Count  Dtype  \n",
      "---  ------  --------------  -----  \n",
      " 0   Date    3771 non-null   object \n",
      " 1   Open    3771 non-null   float64\n",
      " 2   High    3771 non-null   float64\n",
      " 3   Low     3771 non-null   float64\n",
      " 4   Close   3771 non-null   float64\n",
      " 5   Volume  3771 non-null   int64  \n",
      " 6   Label   3771 non-null   object \n",
      "dtypes: float64(4), int64(1), object(2)\n",
      "memory usage: 206.4+ KB\n"
     ]
    }
   ],
   "source": [
    "# Gathering some basic information about the data. This will help decide the type of models that should be used and what variables to use in those models.\n",
    "combined_df.info()"
   ]
  },
  {
   "cell_type": "code",
   "execution_count": 67,
   "id": "e3b8fcad-ddfe-49fe-a434-b18db48c68ad",
   "metadata": {},
   "outputs": [
    {
     "data": {
      "text/html": [
       "<div>\n",
       "<style scoped>\n",
       "    .dataframe tbody tr th:only-of-type {\n",
       "        vertical-align: middle;\n",
       "    }\n",
       "\n",
       "    .dataframe tbody tr th {\n",
       "        vertical-align: top;\n",
       "    }\n",
       "\n",
       "    .dataframe thead th {\n",
       "        text-align: right;\n",
       "    }\n",
       "</style>\n",
       "<table border=\"1\" class=\"dataframe\">\n",
       "  <thead>\n",
       "    <tr style=\"text-align: right;\">\n",
       "      <th></th>\n",
       "      <th>Open</th>\n",
       "      <th>High</th>\n",
       "      <th>Low</th>\n",
       "      <th>Close</th>\n",
       "      <th>Volume</th>\n",
       "    </tr>\n",
       "  </thead>\n",
       "  <tbody>\n",
       "    <tr>\n",
       "      <th>count</th>\n",
       "      <td>3771.000000</td>\n",
       "      <td>3771.000000</td>\n",
       "      <td>3771.000000</td>\n",
       "      <td>3771.000000</td>\n",
       "      <td>3.771000e+03</td>\n",
       "    </tr>\n",
       "    <tr>\n",
       "      <th>mean</th>\n",
       "      <td>201.932455</td>\n",
       "      <td>204.010265</td>\n",
       "      <td>199.806596</td>\n",
       "      <td>202.001707</td>\n",
       "      <td>3.166993e+07</td>\n",
       "    </tr>\n",
       "    <tr>\n",
       "      <th>std</th>\n",
       "      <td>94.732592</td>\n",
       "      <td>95.481002</td>\n",
       "      <td>93.945050</td>\n",
       "      <td>94.793704</td>\n",
       "      <td>3.034375e+07</td>\n",
       "    </tr>\n",
       "    <tr>\n",
       "      <th>min</th>\n",
       "      <td>82.800003</td>\n",
       "      <td>83.480003</td>\n",
       "      <td>81.430000</td>\n",
       "      <td>81.820000</td>\n",
       "      <td>1.186200e+06</td>\n",
       "    </tr>\n",
       "    <tr>\n",
       "      <th>25%</th>\n",
       "      <td>124.352375</td>\n",
       "      <td>125.696535</td>\n",
       "      <td>123.426160</td>\n",
       "      <td>124.669273</td>\n",
       "      <td>5.402050e+06</td>\n",
       "    </tr>\n",
       "    <tr>\n",
       "      <th>50%</th>\n",
       "      <td>174.830002</td>\n",
       "      <td>176.460007</td>\n",
       "      <td>173.154495</td>\n",
       "      <td>174.449997</td>\n",
       "      <td>2.430830e+07</td>\n",
       "    </tr>\n",
       "    <tr>\n",
       "      <th>75%</th>\n",
       "      <td>248.931653</td>\n",
       "      <td>251.485193</td>\n",
       "      <td>245.946174</td>\n",
       "      <td>248.685120</td>\n",
       "      <td>4.598400e+07</td>\n",
       "    </tr>\n",
       "    <tr>\n",
       "      <th>max</th>\n",
       "      <td>470.089996</td>\n",
       "      <td>473.429993</td>\n",
       "      <td>468.779999</td>\n",
       "      <td>472.765015</td>\n",
       "      <td>2.726620e+08</td>\n",
       "    </tr>\n",
       "  </tbody>\n",
       "</table>\n",
       "</div>"
      ],
      "text/plain": [
       "              Open         High          Low        Close        Volume\n",
       "count  3771.000000  3771.000000  3771.000000  3771.000000  3.771000e+03\n",
       "mean    201.932455   204.010265   199.806596   202.001707  3.166993e+07\n",
       "std      94.732592    95.481002    93.945050    94.793704  3.034375e+07\n",
       "min      82.800003    83.480003    81.430000    81.820000  1.186200e+06\n",
       "25%     124.352375   125.696535   123.426160   124.669273  5.402050e+06\n",
       "50%     174.830002   176.460007   173.154495   174.449997  2.430830e+07\n",
       "75%     248.931653   251.485193   245.946174   248.685120  4.598400e+07\n",
       "max     470.089996   473.429993   468.779999   472.765015  2.726620e+08"
      ]
     },
     "execution_count": 67,
     "metadata": {},
     "output_type": "execute_result"
    }
   ],
   "source": [
    "combined_df.describe()"
   ]
  },
  {
   "cell_type": "markdown",
   "id": "c5465f3d-edbe-4e9a-823d-b43393236211",
   "metadata": {},
   "source": [
    "When working through this dataset, it was important to check for any duplicated or missing values. Given that the dataset contains daily stock prices, each row should correspond to a unique trading date — so duplicates are not expected. Using `.isna().sum()` confirmed that there were no missing values across any of the columns. Similarly, `.duplicated().sum()` verified that there were no duplicate rows in the dataset. These checks ensure that the data is clean and reliable before moving on to further analysis and feature engineering.\n"
   ]
  },
  {
   "cell_type": "code",
   "execution_count": 68,
   "id": "6d7a1c1b-1c45-44bf-a819-10865a6fc5ba",
   "metadata": {},
   "outputs": [
    {
     "name": "stdout",
     "output_type": "stream",
     "text": [
      "                           Date        Open        High         Low  \\\n",
      "0     2020-06-09 00:00:00-04:00  126.472000  131.321503  126.250000   \n",
      "1     2020-06-10 00:00:00-04:00  132.250000  136.117493  131.313004   \n",
      "2     2020-06-11 00:00:00-04:00  130.175003  133.569000  126.811501   \n",
      "3     2020-06-12 00:00:00-04:00  130.060501  131.074005  125.167503   \n",
      "4     2020-06-15 00:00:00-04:00  126.330002  129.199997  125.400002   \n",
      "...                         ...         ...         ...         ...   \n",
      "3766  2025-06-03 00:00:00-04:00  263.350006  265.559998  262.579987   \n",
      "3767  2025-06-04 00:00:00-04:00  264.899994  267.000000  264.790009   \n",
      "3768  2025-06-05 00:00:00-04:00  265.200012  267.510010  265.100006   \n",
      "3769  2025-06-06 00:00:00-04:00  267.989990  270.170013  267.529999   \n",
      "3770  2025-06-09 00:00:00-04:00  268.100006  273.450012  266.709991   \n",
      "\n",
      "           Close     Volume Label  \n",
      "0     130.042999  103520000  AMZN  \n",
      "1     132.372498   98920000  AMZN  \n",
      "2     127.898003  116002000  AMZN  \n",
      "3     127.250999  108722000  AMZN  \n",
      "4     128.634003   77302000  AMZN  \n",
      "...          ...        ...   ...  \n",
      "3766  265.200012    2494700   IBM  \n",
      "3767  265.519989    2588600   IBM  \n",
      "3768  266.859985    2658400   IBM  \n",
      "3769  268.869995    2495200   IBM  \n",
      "3770  272.934998    2349444   IBM  \n",
      "\n",
      "[3771 rows x 7 columns]\n"
     ]
    }
   ],
   "source": [
    "print(combined_df)"
   ]
  },
  {
   "cell_type": "markdown",
   "id": "c24f3b9e-1088-42ab-aee6-2e6763373aeb",
   "metadata": {},
   "source": [
    "**What I Observed:**\n",
    "- Data was clean and organizaed with no missing or duplicated values\n",
    "- Based on the numerical structure of the data points it is important to go forward with  correct models that will produce the highest accuracy.\n",
    "    - In this case: Random Forest, XGBoost, and LSTM\n",
    "- The data set can definitely be more advnaced with feature engineering and should begin creating new variables that can enhance model performance.\n",
    "    - New variable ideas based on original viewing of data set: Daily Return, Moving Averages, Volatility\n",
    "    - And make sure to include the future prediciton targets\n",
    "\n",
    "\n",
    "Overall, this dataset was already well-organized and required minimal cleaning. However, it’s important to remember that data cleaning involves more than just the values themselves—it also includes how the data is structured and presented. For example, inconsistently formatted column titles should be standardized, noisy or irrelevant data should be removed, and duplicate entries should be eliminated. These steps are all crucial to ensuring the dataset is clean, reliable, and ready for analysis. "
   ]
  },
  {
   "cell_type": "markdown",
   "id": "a012cda8-b6b8-46d6-b8ba-172b8191592c",
   "metadata": {},
   "source": [
    "**Feature Engineering**\n",
    "1. Daily_Return. This will measure the percent change in closing price from the previous trading day. This cpatures short-term momentum or reversal patterns in the stock's prices.\n"
   ]
  },
  {
   "cell_type": "code",
   "execution_count": 69,
   "id": "3cc5bacb-2512-4c4d-8615-a93d5c92115f",
   "metadata": {},
   "outputs": [],
   "source": [
    "combined_df['Daily_Return'] = combined_df.groupby('Label')['Close'].pct_change()"
   ]
  },
  {
   "cell_type": "markdown",
   "id": "cbef4fca-bc8f-4173-af35-dfa2a5fe64b5",
   "metadata": {},
   "source": [
    "2. MA_7. This is a 7-Day Moving Average varaible. This will show the average closing price over the past 7 trading days. Helps smooth out short-term fluctuations and highlights recent price trends"
   ]
  },
  {
   "cell_type": "code",
   "execution_count": 70,
   "id": "6660d57e-d23f-415b-be89-08a10daeac94",
   "metadata": {},
   "outputs": [],
   "source": [
    "combined_df['MA_7'] = combined_df.groupby('Label')['Close'].rolling(7).mean().reset_index(level=0, drop=True)"
   ]
  },
  {
   "cell_type": "markdown",
   "id": "dd1389da-15e5-41c1-b6b5-7a02637a29fe",
   "metadata": {},
   "source": [
    "3. Lag_Close_1. This is the closing price from the previous day. This lagged value gives the moel immediate historical context and helps identify short-term dependencies in the price behavior. "
   ]
  },
  {
   "cell_type": "code",
   "execution_count": 71,
   "id": "0a236deb-fe37-4899-9d54-bdb9daee595d",
   "metadata": {},
   "outputs": [],
   "source": [
    "combined_df['Lag_Close_1'] = combined_df.groupby('Label')['Close'].shift(1)"
   ]
  },
  {
   "cell_type": "code",
   "execution_count": 72,
   "id": "2259783c-c868-4f11-b83a-84006d3f0145",
   "metadata": {},
   "outputs": [],
   "source": [
    "combined_df.dropna(inplace=True)"
   ]
  },
  {
   "cell_type": "code",
   "execution_count": 73,
   "id": "a9258f64-4032-45a5-a740-4f490fb15979",
   "metadata": {},
   "outputs": [
    {
     "name": "stdout",
     "output_type": "stream",
     "text": [
      "                           Date        Open        High         Low  \\\n",
      "6     2020-06-17 00:00:00-04:00  132.375000  132.750000  131.591003   \n",
      "7     2020-06-18 00:00:00-04:00  132.350494  132.981995  131.805496   \n",
      "8     2020-06-19 00:00:00-04:00  133.904007  134.871506  132.949997   \n",
      "9     2020-06-22 00:00:00-04:00  134.225006  135.750000  133.449997   \n",
      "10    2020-06-23 00:00:00-04:00  136.300995  139.155502  135.901993   \n",
      "...                         ...         ...         ...         ...   \n",
      "3766  2025-06-03 00:00:00-04:00  263.350006  265.559998  262.579987   \n",
      "3767  2025-06-04 00:00:00-04:00  264.899994  267.000000  264.790009   \n",
      "3768  2025-06-05 00:00:00-04:00  265.200012  267.510010  265.100006   \n",
      "3769  2025-06-06 00:00:00-04:00  267.989990  270.170013  267.529999   \n",
      "3770  2025-06-09 00:00:00-04:00  268.100006  273.450012  266.709991   \n",
      "\n",
      "           Close     Volume Label  Daily_Return        MA_7  Lag_Close_1  \n",
      "6     132.048996   59186000  AMZN      0.009831  129.858715   130.763504  \n",
      "7     132.699005   49756000  AMZN      0.004922  130.238144   132.048996  \n",
      "8     133.750504  115540000  AMZN      0.007924  130.435002   132.699005  \n",
      "9     135.690994   64176000  AMZN      0.014508  131.548286   133.750504  \n",
      "10    138.220505   84634000  AMZN      0.018642  133.115359   135.690994  \n",
      "...          ...        ...   ...           ...         ...          ...  \n",
      "3766  265.200012    2494700   IBM      0.004926  261.278573   263.899994  \n",
      "3767  265.519989    2588600   IBM      0.001207  262.262857   265.200012  \n",
      "3768  266.859985    2658400   IBM      0.005047  262.781424   265.519989  \n",
      "3769  268.869995    2495200   IBM      0.007532  264.014282   266.859985  \n",
      "3770  272.934998    2349444   IBM      0.015119  266.049282   268.869995  \n",
      "\n",
      "[3753 rows x 10 columns]\n"
     ]
    }
   ],
   "source": [
    "print(combined_df)"
   ]
  },
  {
   "cell_type": "code",
   "execution_count": 76,
   "id": "ec3e6638-166c-4f57-aae9-25455a84e902",
   "metadata": {},
   "outputs": [
    {
     "data": {
      "image/png": "[encoded data removed]",
      "text/plain": [
       "<Figure size 800x800 with 1 Axes>"
      ]
     },
     "metadata": {},
     "output_type": "display_data"
    }
   ],
   "source": [
    "plt.figure(figsize=(8,8))\n",
    "plt.title('Outliers for Close', fontsize =10)\n",
    "plt.xticks(fontsize = 10)\n",
    "plt.yticks(fontsize = 10)\n",
    "sns.boxplot(x = combined_df['Close'])\n",
    "plt.show()"
   ]
  },
  {
   "cell_type": "code",
   "execution_count": null,
   "id": "75f615b5-f828-4da0-9c26-6e2d3f285425",
   "metadata": {},
   "outputs": [],
   "source": []
  }
 ],
 "metadata": {
  "kernelspec": {
   "display_name": "Python 3 (ipykernel)",
   "language": "python",
   "name": "python3"
  },
  "language_info": {
   "codemirror_mode": {
    "name": "ipython",
    "version": 3
   },
   "file_extension": ".py",
   "mimetype": "text/x-python",
   "name": "python",
   "nbconvert_exporter": "python",
   "pygments_lexer": "ipython3",
   "version": "3.13.3"
  }
 },
 "nbformat": 4,
 "nbformat_minor": 5
}
